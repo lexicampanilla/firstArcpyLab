{
 "cells": [
  {
   "cell_type": "markdown",
   "metadata": {},
   "source": [
    "Lexi Campanilla\n",
    "\n",
    "First Arcpy Lab"
   ]
  },
  {
   "cell_type": "code",
   "execution_count": 1,
   "metadata": {
    "collapsed": true
   },
   "outputs": [],
   "source": [
    "import sys\n",
    "sys.path.append('D:\\\\Desktop10.5\\\\bin')\n",
    "sys.path.append('D:\\\\Desktop10.5\\\\arcpy')\n",
    "sys.path.append('D:\\\\Desktop10.5\\\\ArcToolbox\\\\Scripts')\n",
    "import arcpy"
   ]
  },
  {
   "cell_type": "code",
   "execution_count": 2,
   "metadata": {
    "collapsed": true
   },
   "outputs": [],
   "source": [
    "from arcpy import env\n",
    "env.workspace = \"C:\\\\Users\\\\Alexandra\\\\Documents\\\\GEOG458\\\\firstArcpyLab\\\\\""
   ]
  },
  {
   "cell_type": "code",
   "execution_count": 3,
   "metadata": {
    "collapsed": true
   },
   "outputs": [],
   "source": [
    "shapefile=\"C:\\\\Users\\\\Alexandra\\\\Documents\\\\GEOG458\\\\firstArcpyLab\\\\saep_bg10.shp\"\n",
    "WAfips=\"C:\\\\Users\\\\Alexandra\\\\Documents\\\\GEOG458\\\\firstArcpyLab\\\\WashingtonFIPS.dbf\""
   ]
  },
  {
   "cell_type": "markdown",
   "metadata": {},
   "source": [
    "Reinstalled osgeo4w64"
   ]
  },
  {
   "cell_type": "code",
   "execution_count": 4,
   "metadata": {
    "collapsed": true
   },
   "outputs": [],
   "source": [
    "from subprocess import call\n",
    "import os\n",
    "os.environ[\"GDAL_DATA\"]=\"C:\\\\Users\\\\Alexandra\\\\Downloads\\\\OSGeo4W64-20180216T050230Z-001\\\\OSGeo4W64\\\\share\\\\gdal\"\n",
    "os.environ[\"GDAL_DRIVER_PATH\"]=\"C:\\\\Users\\\\Alexandra\\\\Downloads\\\\OSGeo4W64-20180216T050230Z-001\\\\OSGeo4W64\\\\bin\\\\gdalplugins\"\n",
    "os.environ[\"PROJ_LIB\"]=\"C:\\\\Users\\\\Alexandra\\\\Downloads\\\\OSGeo4W64-20180216T050230Z-001\\\\OSGeo4W64\\\\share\\\\proj\"\n",
    "os.environ[\"PATH\"]=\"C:\\\\Users\\\\Alexandra\\\\Downloads\\\\OSGeo4W64-20180216T050230Z-001\\\\OSGeo4W64\\\\bin;\"+os.environ[\"PATH\"]+\";C:\\\\Users\\\\Alexandra\\\\Downloads\\\\OSGeo4W64-20180216T050230Z-001\\\\OSGeo4W64\\\\apps\\\\msys\\\\bin;C:\\\\Users\\\\Alexandra\\\\Downloads\\\\OSGeo4W64-20180216T050230Z-001\\\\OSGeo4W64\\\\apps\\\\Python27\\\\Scripts\""
   ]
  },
  {
   "cell_type": "markdown",
   "metadata": {},
   "source": [
    "adds COUNTYname field in the shapefile\n",
    "\n",
    "loop shapefile to put counties with same FIPS code into COUNTYname"
   ]
  },
  {
   "cell_type": "code",
   "execution_count": 5,
   "metadata": {},
   "outputs": [],
   "source": [
    "arcpy.management.AddField(shapefile,\"COUNTYname\",\"TEXT\")\n",
    "                              \n",
    "mylist=[]\n",
    "cursor=arcpy.da.SearchCursor(WAfips,[\"CountyName\",\"FIPSCounty\"]) #searches WAfips for CountyName and FIPScounty\n",
    "for row in cursor:\n",
    "    \n",
    "    cursor2=arcpy.da.UpdateCursor(shapefile,\"COUNTYname\",'\"COUNTYFP10\" = ' + \"'%s'\"%row[1]) #makes it a string\n",
    "    mylist.append(row[0])\n",
    "    for row2 in cursor2:\n",
    "        row2[0] = row[0]\n",
    "        cursor2.updateRow(row2)\n",
    "del cursor\n",
    "del cursor2          "
   ]
  },
  {
   "cell_type": "markdown",
   "metadata": {},
   "source": [
    "verification"
   ]
  },
  {
   "cell_type": "code",
   "execution_count": 6,
   "metadata": {},
   "outputs": [
    {
     "name": "stdout",
     "output_type": "stream",
     "text": [
      "FID\n",
      "Shape\n",
      "STATEFP10\n",
      "COUNTYFP10\n",
      "TRACTCE10\n",
      "BLKGRPCE10\n",
      "GEOID10\n",
      "NAMELSAD10\n",
      "MTFCC10\n",
      "FUNCSTAT10\n",
      "INTPTLON10\n",
      "INTPTLAT10\n",
      "ALANDM\n",
      "AWATERM\n",
      "ALANDMI\n",
      "AWATERMI\n",
      "Version\n",
      "POP2000\n",
      "POP2001\n",
      "POP2002\n",
      "POP2003\n",
      "POP2004\n",
      "POP2005\n",
      "POP2006\n",
      "POP2007\n",
      "POP2008\n",
      "POP2009\n",
      "POP2010\n",
      "POP2011\n",
      "POP2012\n",
      "POP2013\n",
      "POP2014\n",
      "POP2015\n",
      "POP2016\n",
      "POP2017\n",
      "CPOP00_10\n",
      "PCPOP00_10\n",
      "CPOP10_17\n",
      "PCPOP10_17\n",
      "HHP2000\n",
      "HHP2001\n",
      "HHP2002\n",
      "HHP2003\n",
      "HHP2004\n",
      "HHP2005\n",
      "HHP2006\n",
      "HHP2007\n",
      "HHP2008\n",
      "HHP2009\n",
      "HHP2010\n",
      "HHP2011\n",
      "HHP2012\n",
      "HHP2013\n",
      "HHP2014\n",
      "HHP2015\n",
      "HHP2016\n",
      "HHP2017\n",
      "CHHP00_10\n",
      "PCHHP00_10\n",
      "CHHP10_17\n",
      "PCHHP10_17\n",
      "GQ2000\n",
      "GQ2001\n",
      "GQ2002\n",
      "GQ2003\n",
      "GQ2004\n",
      "GQ2005\n",
      "GQ2006\n",
      "GQ2007\n",
      "GQ2008\n",
      "GQ2009\n",
      "GQ2010\n",
      "GQ2011\n",
      "GQ2012\n",
      "GQ2013\n",
      "GQ2014\n",
      "GQ2015\n",
      "GQ2016\n",
      "GQ2017\n",
      "CGQ00_10\n",
      "PCGQ00_10\n",
      "CGQ10_17\n",
      "PCGQ10_17\n",
      "HU2000\n",
      "HU2001\n",
      "HU2002\n",
      "HU2003\n",
      "HU2004\n",
      "HU2005\n",
      "HU2006\n",
      "HU2007\n",
      "HU2008\n",
      "HU2009\n",
      "HU2010\n",
      "HU2011\n",
      "HU2012\n",
      "HU2013\n",
      "HU2014\n",
      "HU2015\n",
      "HU2016\n",
      "HU2017\n",
      "CHU00_10\n",
      "PCHU00_10\n",
      "CHU10_17\n",
      "PCHU10_17\n",
      "OHU2000\n",
      "OHU2001\n",
      "OHU2002\n",
      "OHU2003\n",
      "OHU2004\n",
      "OHU2005\n",
      "OHU2006\n",
      "OHU2007\n",
      "OHU2008\n",
      "OHU2009\n",
      "OHU2010\n",
      "OHU2011\n",
      "OHU2012\n",
      "OHU2013\n",
      "OHU2014\n",
      "OHU2015\n",
      "OHU2016\n",
      "OHU2017\n",
      "COHU00_10\n",
      "PCOHU00_10\n",
      "COHU10_17\n",
      "PCOHU10_17\n",
      "COUNTYname\n"
     ]
    }
   ],
   "source": [
    "fieldlist=arcpy.ListFields(shapefile)\n",
    "for curr_field in fieldlist:\n",
    "    print curr_field.name"
   ]
  },
  {
   "cell_type": "markdown",
   "metadata": {},
   "source": [
    "makes files for each county"
   ]
  },
  {
   "cell_type": "code",
   "execution_count": 7,
   "metadata": {},
   "outputs": [],
   "source": [
    "for WAcounty in mylist:\n",
    "    outLocation=\"C:\\\\Users\\\\Alexandra\\\\Documents\\\\GEOG458\\\\firstArcpyLab\\\\\"\n",
    "    arcpy.FeatureClassToFeatureClass_conversion(shapefile, outLocation,str(WAcounty),'\"COUNTYname\"='+\"'%s'\"%WAcounty)"
   ]
  },
  {
   "cell_type": "markdown",
   "metadata": {},
   "source": [
    "as seen below"
   ]
  },
  {
   "cell_type": "code",
   "execution_count": 8,
   "metadata": {},
   "outputs": [
    {
     "name": "stdout",
     "output_type": "stream",
     "text": [
      "[u'Adams', u'Asotin', u'Benton', u'Chelan', u'Clallam', u'Clark', u'Columbia', u'Cowlitz', u'Douglas', u'Ferry', u'Franklin', u'Garfield', u'Grant', u'Grays Harbor', u'Island', u'Jefferson', u'King', u'Kitsap', u'Kittitas', u'Klickitat', u'Lewis', u'Lincoln', u'Mason', u'Okanogan', u'Pacific', u'Pend Oreille', u'Pierce', u'San Juan', u'Skagit', u'Skamania', u'Snohomish', u'Spokane', u'Stevens', u'Thurston', u'Wahkiakum', u'Walla Walla', u'Whatcom', u'Whitman', u'Yakima']\n"
     ]
    }
   ],
   "source": [
    "print mylist"
   ]
  },
  {
   "cell_type": "markdown",
   "metadata": {},
   "source": [
    "produces geojson files"
   ]
  },
  {
   "cell_type": "code",
   "execution_count": 9,
   "metadata": {
    "scrolled": true
   },
   "outputs": [],
   "source": [
    "for WAcounty in mylist:\n",
    "    call(['C:\\\\Users\\\\Alexandra\\\\Downloads\\\\OSGeo4W64-20180216T050230Z-001\\\\OSGeo4W64\\\\bin\\\\ogr2ogr',\n",
    "      '-f','GeoJSON','-t_srs','WGS84',\n",
    "      '-s_srs','EPSG:2927',\n",
    "      'C:\\\\Users\\\\Alexandra\\\\Documents\\\\GEOG458\\\\firstArcpyLab\\\\geojsoncounties\\\\'+str(WAcounty)+'.geojson',\n",
    "      outLocation+str(WAcounty)+'.shp'])"
   ]
  },
  {
   "cell_type": "markdown",
   "metadata": {},
   "source": [
    "adds population of the counties"
   ]
  },
  {
   "cell_type": "code",
   "execution_count": 16,
   "metadata": {},
   "outputs": [
    {
     "name": "stdout",
     "output_type": "stream",
     "text": [
      "[19870.0, 22290.0, 193499.99999999997, 76829.99999999999, 74240.00000000001, 470999.9999999994, 4100.0, 105900.00000000001, 41420.0, 7740.0, 90330.00000000003, 2200.0, 95630.0, 72970.0, 82790.0, 31360.0, 2153700.0, 264300.00000000006, 44730.0, 21660.0, 77440.00000000003, 10700.0, 63190.00000000001, 42110.00000000001, 21249.999999999996, 13370.0, 859400.0000000003, 16510.0, 124100.00000000001, 11690.0, 789400.0000000005, 499800.0, 44510.0, 276899.9999999999, 4030.0, 61399.999999999985, 216300.00000000003, 48639.99999999999, 253000.0]\n"
     ]
    }
   ],
   "source": [
    "top10=[]\n",
    "for WAcounty in mylist:\n",
    "    cursor=arcpy.da.SearchCursor(shapefile,[\"POP2017\"],'\"COUNTYname\"='+\"'%s'\"%WAcounty)\n",
    "    population=0\n",
    "    for row in cursor:\n",
    "        population+=row[0]\n",
    "    top10.append(population)\n",
    "del cursor\n",
    "print top10    "
   ]
  },
  {
   "cell_type": "markdown",
   "metadata": {},
   "source": [
    "sorts top 10 populations (highest)"
   ]
  },
  {
   "cell_type": "code",
   "execution_count": 17,
   "metadata": {},
   "outputs": [
    {
     "name": "stdout",
     "output_type": "stream",
     "text": [
      "2153700.0\n",
      "859400.0\n",
      "789400.0\n",
      "499800.0\n",
      "471000.0\n",
      "276900.0\n",
      "264300.0\n",
      "253000.0\n",
      "216300.0\n",
      "193500.0\n"
     ]
    }
   ],
   "source": [
    "top10.sort(reverse=True)\n",
    "for i in range(0,10):\n",
    "    print top10[i]"
   ]
  },
  {
   "cell_type": "code",
   "execution_count": null,
   "metadata": {
    "collapsed": true
   },
   "outputs": [],
   "source": []
  }
 ],
 "metadata": {
  "kernelspec": {
   "display_name": "Python 2",
   "language": "python",
   "name": "python2"
  },
  "language_info": {
   "codemirror_mode": {
    "name": "ipython",
    "version": 2
   },
   "file_extension": ".py",
   "mimetype": "text/x-python",
   "name": "python",
   "nbconvert_exporter": "python",
   "pygments_lexer": "ipython2",
   "version": "2.7.14"
  }
 },
 "nbformat": 4,
 "nbformat_minor": 2
}
